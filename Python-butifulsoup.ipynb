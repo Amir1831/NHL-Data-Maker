{
 "cells": [
  {
   "cell_type": "code",
   "execution_count": 2,
   "id": "82a1e778",
   "metadata": {},
   "outputs": [
    {
     "name": "stdout",
     "output_type": "stream",
     "text": [
      "\n",
      "                  Forward penalized maximum for tripping Islanders center Horvat\n",
      "                \n",
      "\n",
      "©\n",
      "              Getty Images\n",
      "            \n",
      "NEW YORK – Edmonton Oilers forward Leon Draisaitl has been fined $5,000, the maximum allowable under the Collective Bargaining Agreement, for a dangerous trip against New York Islanders forward Bo Horvat during NHL Game No. 227 in Edmonton on Monday, Nov. 13, the National Hockey League's Department of Player Safety announced today.\n",
      "The incident occurred at 9:49 of the second period. Draisaitl was assessed a minor penalty for tripping.\n",
      "The money goes to the Players' Emergency Assistance Fund.\n"
     ]
    }
   ],
   "source": [
    "import requests\n",
    "from bs4 import BeautifulSoup\n",
    "\n",
    "# URL of the website you want to extract text from\n",
    "url = 'https://www.nhl.com/news/draisaitl-fined-for-tripping-horvat'\n",
    "\n",
    "# Send a HTTP GET request to the website\n",
    "response = requests.get(url)\n",
    "\n",
    "# Create a BeautifulSoup object with the website content\n",
    "soup = BeautifulSoup(response.content, 'html.parser')\n",
    "\n",
    "# Find the specific part of the website text you want to extract\n",
    "# In this example, we extract the text from all <p> tags\n",
    "paragraphs = soup.find_all('p')\n",
    "\n",
    "# Extract the text from the paragraphs\n",
    "for paragraph in paragraphs:\n",
    "    print(paragraph.get_text())"
   ]
  },
  {
   "cell_type": "code",
   "execution_count": 6,
   "id": "9ccf2b2f",
   "metadata": {},
   "outputs": [
    {
     "name": "stdout",
     "output_type": "stream",
     "text": [
      "Forward penalized maximum for tripping Islanders center Horvat\n",
      "Back at practice after day spent sightseeing in Stockholm\n"
     ]
    }
   ],
   "source": [
    "import requests\n",
    "from bs4 import BeautifulSoup\n",
    "\n",
    "# URL of the website you want to extract text from\n",
    "url = 'https://www.nhl.com/news/'\n",
    "\n",
    "# Send a HTTP GET request to the website\n",
    "response = requests.get(url)\n",
    "\n",
    "# Create a BeautifulSoup object with the website content\n",
    "soup = BeautifulSoup(response.content, 'html.parser')\n",
    "\n",
    "# Find the specific part of the website text you want to extract\n",
    "# In this example, we extract the text from all <p> tags\n",
    "paragraphs = soup.find_all('p')\n",
    "\n",
    "# Extract the text from the paragraphs\n",
    "for paragraph in paragraphs:\n",
    "    print(paragraph.get_text())"
   ]
  },
  {
   "cell_type": "code",
   "execution_count": null,
   "id": "229a6174",
   "metadata": {},
   "outputs": [],
   "source": []
  }
 ],
 "metadata": {
  "kernelspec": {
   "display_name": "Python 3 (ipykernel)",
   "language": "python",
   "name": "python3"
  },
  "language_info": {
   "codemirror_mode": {
    "name": "ipython",
    "version": 3
   },
   "file_extension": ".py",
   "mimetype": "text/x-python",
   "name": "python",
   "nbconvert_exporter": "python",
   "pygments_lexer": "ipython3",
   "version": "3.9.12"
  }
 },
 "nbformat": 4,
 "nbformat_minor": 5
}
