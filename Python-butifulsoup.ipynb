{
 "cells": [
  {
   "cell_type": "code",
   "execution_count": 1,
   "id": "82a1e778",
   "metadata": {},
   "outputs": [
    {
     "name": "stdout",
     "output_type": "stream",
     "text": [
      "\n",
      "                  Verhaeghe, Stenlund score 1:03 apart; Reinhart pushes multipoint streak to 5\n",
      "                \n",
      "Recap: Panthers at Sharks 11.14.23\n",
      "SAN JOSE -- The Florida Panthers scored three unanswered goals in the third period after giving up the lead to defeat the San Jose Sharks 5-3 and SAP Center on Tuesday.\n",
      "Sam Reinhart had a goal and an assist to extend his multipoint streak to five games for the Panthers (10-4-1), who have won five in a row. Aleksander Barkov and Carter Verhaeghe also had a goal and an assist, Matthew Tkachuk had two assists, and Anthony Stolarz made 19 saves.\n",
      "\"I think everyone's stepping up,\" Verhaeghe said. \"Every win is kind of a total team win. Everyone is contributing in a different way.\"\n",
      "FLA@SJS: Verhaeghe puts home a PPG from the hash marks\n",
      "Mike Hoffman scored his first goal of the season for the Sharks (2-13-1), who have lost three straight. Mackenzie Blackwood made 27 saves.\n",
      "\"There were a lot of good signs overall throughout the game,\" San Jose coach David Quinn said. \"But against a team of that caliber, you've got to make sure that you're thorough in all areas for 60 minutes.\"\n",
      "Tomas Hertl tied it 2-2 at 6:11 of the third period when he redirected in a centering pass from Fabian Zetterlund on a power play.\n",
      "Luke Kunin put San Jose ahead 3-2 during a delayed penalty at 7:21. He scored five-hole with a backhand after Mikael Granlund's shot from the point caromed to him off the end boards.\n",
      "Verhaeghe tied the game again 3-3 at 10:06 with a one-timer from the right circle on a power play.\n",
      "\"We had the lead in the third period, and then we take a penalty (and) they take advantage of it,\" Hoffman said. \"We kept fighting and we never gave up. We got a couple of chances to tie it, but that wasn't enough.\"\n",
      "Kevin Stenlund put Florida back in front 4-3 at 11:09 when he redirected a point shot from Uvis Balinskis five-hole on Blackwood.\n",
      "\"We know we can score at any time,\" Stenlund said. \"We're confident. We've just got to keep working. We did that and we won.\"\n",
      "FLA@SJS: Stenlund deflects a shot into the net for the lead\n",
      "Sam Bennett appeared to extend the lead 38 seconds later, but Quinn successfully challenged the play for offside.\n",
      "However, Barkov scored into an empty net at 17:47 for the 5-3 final.\n",
      "Ryan Lomberg gave Florida a 1-0 lead at 12:34 of the first period, scoring blocker side from the top of the right circle following a turnover by Zetterlund.\n",
      "Hoffman tied it 1-1 at 15:58 when he chipped in a rebound along the goal line.\n",
      "Reinhart responded for the Panthers on a power play to make 2-1 at 12:09 of the second period. He got to the rebound of Oliver Ekman-Larsson's shot in the crease and scored with a backhand.\n",
      "FLA@SJS: Reinhart sends in a rebound for a PPG\n",
      "Reinhart has 12 points (four goals, eight assists) during his multipoint streak.\n",
      "\"I thought San Jose played a good game,\" Florida coach Paul Maurice said. \"You're not going to get an easy game out of any team in the NHL when they play as hard as they did. We got a couple of bad breaks, I think, on that, (but) we didn't change our game (in the third). We played the exact same game we had been playing five minutes before in part because we're pretty confident with it.\"\n",
      "NOTES: Reinhart has scored 12 goals this season, one behind Auston Matthews of the Toronto Maple Leafs and Kyle Connor of the Winnipeg Jets for the NHL lead. ... Hertl's goal was his 206th in the NHL, tying him with Owen Nolan for fifth in Sharks history.\n"
     ]
    }
   ],
   "source": [
    "import requests\n",
    "from bs4 import BeautifulSoup\n",
    "\n",
    "# URL of the website you want to extract text from\n",
    "url = 'https://www.nhl.com/news/topic/game-recaps/florida-panthers-san-jose-sharks-game-recap-november-14'\n",
    "\n",
    "# Send a HTTP GET request to the website\n",
    "response = requests.get(url)\n",
    "\n",
    "# Create a BeautifulSoup object with the website content\n",
    "soup = BeautifulSoup(response.content, 'html.parser')\n",
    "\n",
    "# Find the specific part of the website text you want to extract\n",
    "# In this example, we extract the text from all <p> tags\n",
    "paragraphs = soup.find_all('p')\n",
    "\n",
    "# Extract the text from the paragraphs\n",
    "for paragraph in paragraphs:\n",
    "    print(paragraph.get_text())"
   ]
  },
  {
   "cell_type": "code",
   "execution_count": 6,
   "id": "9ccf2b2f",
   "metadata": {},
   "outputs": [
    {
     "name": "stdout",
     "output_type": "stream",
     "text": [
      "Forward penalized maximum for tripping Islanders center Horvat\n",
      "Back at practice after day spent sightseeing in Stockholm\n"
     ]
    }
   ],
   "source": [
    "import requests\n",
    "from bs4 import BeautifulSoup\n",
    "\n",
    "# URL of the website you want to extract text from\n",
    "url = 'https://www.nhl.com/news/'\n",
    "\n",
    "# Send a HTTP GET request to the website\n",
    "response = requests.get(url)\n",
    "\n",
    "# Create a BeautifulSoup object with the website content\n",
    "soup = BeautifulSoup(response.content, 'html.parser')\n",
    "\n",
    "# Find the specific part of the website text you want to extract\n",
    "# In this example, we extract the text from all <p> tags\n",
    "paragraphs = soup.find_all('p')\n",
    "\n",
    "# Extract the text from the paragraphs\n",
    "for paragraph in paragraphs:\n",
    "    print(paragraph.get_text())"
   ]
  },
  {
   "cell_type": "code",
   "execution_count": 5,
   "id": "46bb3ff0",
   "metadata": {},
   "outputs": [],
   "source": [
    "import requests\n",
    "from bs4 import BeautifulSoup\n",
    "\n",
    "# URL of the website you want to extract text from\n",
    "url = 'https://www.nhl.com/news/topic/game-recaps/'\n",
    "\n",
    "# Send a HTTP GET request to the website\n",
    "response = requests.get(url)\n",
    "\n",
    "# Create a BeautifulSoup object with the website content\n",
    "soup = BeautifulSoup(response.content, 'html.parser')\n",
    "\n",
    "# Find the specific part of the website text you want to extract\n",
    "# In this example, we extract the text from all <p> tags\n",
    "paragraphs = soup.find_all('h')\n",
    "\n",
    "# Extract the text from the paragraphs\n",
    "for paragraph in paragraphs:\n",
    "    print(paragraph.get_text())"
   ]
  },
  {
   "cell_type": "code",
   "execution_count": null,
   "id": "229a6174",
   "metadata": {},
   "outputs": [],
   "source": []
  }
 ],
 "metadata": {
  "kernelspec": {
   "display_name": "Python 3 (ipykernel)",
   "language": "python",
   "name": "python3"
  },
  "language_info": {
   "codemirror_mode": {
    "name": "ipython",
    "version": 3
   },
   "file_extension": ".py",
   "mimetype": "text/x-python",
   "name": "python",
   "nbconvert_exporter": "python",
   "pygments_lexer": "ipython3",
   "version": "3.9.12"
  }
 },
 "nbformat": 4,
 "nbformat_minor": 5
}
